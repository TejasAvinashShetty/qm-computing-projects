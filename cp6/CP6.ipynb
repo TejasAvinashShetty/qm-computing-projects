{
 "cells": [
  {
   "cell_type": "code",
   "execution_count": 1,
   "metadata": {
    "collapsed": false,
    "deletable": true,
    "editable": true
   },
   "outputs": [
    {
     "data": {
      "application/javascript": [
       "require.undef(\"nbextensions/vpython_libraries/glow.min\");"
      ],
      "text/plain": [
       "<IPython.core.display.Javascript object>"
      ]
     },
     "metadata": {},
     "output_type": "display_data"
    },
    {
     "data": {
      "application/javascript": [
       "require.undef(\"nbextensions/vpython_libraries/glowcomm\");"
      ],
      "text/plain": [
       "<IPython.core.display.Javascript object>"
      ]
     },
     "metadata": {},
     "output_type": "display_data"
    },
    {
     "data": {
      "application/javascript": [
       "require.undef(\"nbextensions/vpython_libraries/jquery-ui.custom.min\");"
      ],
      "text/plain": [
       "<IPython.core.display.Javascript object>"
      ]
     },
     "metadata": {},
     "output_type": "display_data"
    },
    {
     "data": {
      "application/javascript": [
       "require([\"nbextensions/vpython_libraries/glow.min\"], function(){console.log(\"GLOW LOADED\");})"
      ],
      "text/plain": [
       "<IPython.core.display.Javascript object>"
      ]
     },
     "metadata": {},
     "output_type": "display_data"
    },
    {
     "data": {
      "application/javascript": [
       "require([\"nbextensions/vpython_libraries/glowcomm\"], function(){console.log(\"GLOWCOMM LOADED\");})"
      ],
      "text/plain": [
       "<IPython.core.display.Javascript object>"
      ]
     },
     "metadata": {},
     "output_type": "display_data"
    },
    {
     "data": {
      "application/javascript": [
       "require([\"nbextensions/vpython_libraries/jquery-ui.custom.min\"], function(){console.log(\"JQUERY LOADED\");})"
      ],
      "text/plain": [
       "<IPython.core.display.Javascript object>"
      ]
     },
     "metadata": {},
     "output_type": "display_data"
    },
    {
     "data": {
      "text/html": [
       "<div id=\"glowscript\" class=\"glowscript\"></div>"
      ],
      "text/plain": [
       "<IPython.core.display.HTML object>"
      ]
     },
     "metadata": {},
     "output_type": "display_data"
    },
    {
     "data": {
      "application/javascript": [
       "window.__context = { glowscript_container: $(\"#glowscript\").removeAttr(\"id\")}"
      ],
      "text/plain": [
       "<IPython.core.display.Javascript object>"
      ]
     },
     "metadata": {},
     "output_type": "display_data"
    }
   ],
   "source": [
    "#\n",
    "# cp6: Solution to Computing Project 6: Quantum Wire Project\n",
    "#\n",
    "\n",
    "from vpython import *\n",
    "from numpy import *\n",
    "from vpython import rate\n"
   ]
  },
  {
   "cell_type": "code",
   "execution_count": 9,
   "metadata": {
    "collapsed": false,
    "deletable": true,
    "editable": true
   },
   "outputs": [
    {
     "data": {
      "text/html": [
       "<div id=\"glowscript\" class=\"glowscript\"></div>"
      ],
      "text/plain": [
       "<IPython.core.display.HTML object>"
      ]
     },
     "metadata": {},
     "output_type": "display_data"
    },
    {
     "data": {
      "application/javascript": [
       "window.__context = { glowscript_container: $(\"#glowscript\").removeAttr(\"id\")}"
      ],
      "text/plain": [
       "<IPython.core.display.Javascript object>"
      ]
     },
     "metadata": {},
     "output_type": "display_data"
    }
   ],
   "source": [
    "canvas()\n",
    "g1 = gcurve(color=color.black)\n",
    "\n",
    "hbar=1.05e-34                    # Js\n",
    "m=0.067*9.1e-31                  # and m_eff=kg\n",
    "NA=80                            # how many arrows?\n",
    "NA2=int(NA/2)                    # half of the arrows\n",
    "a=5.34e-9                        # width for 5 bound states and 1eV well depth.\n",
    "\n",
    "x = linspace(-2.0*a, 2.0*a, NA)  # NA locations from -2a to 2a\n",
    "\n",
    "z0 = 2.1*pi                      # Not a great choice. Why not? Pick a better one\n",
    "k0 = z0/a                        # get k0\n",
    "\n",
    "#\n",
    "# numerical solutions for z when z0 = 2.1*pi, you should find a better z0 and\n",
    "# find solutions for that choice.\n",
    "#\n",
    "\n",
    "z1 = 1.36274\n",
    "z2 = 2.71711\n",
    "\n",
    "k1 = k0*z1/z0\n",
    "k2 = k0*z2/z0\n",
    "kap1 = sqrt(k0**2 - k1**2)\n",
    "kap2 = sqrt(k0**2 - k2**2)\n",
    "\n",
    "E1 = -(hbar*kap1)**2/(2.0*m)\n",
    "E2 = -(hbar*kap2)**2/(2.0*m)\n",
    "\n",
    "w1 = E1/hbar\n",
    "w2 = E2/hbar\n",
    "wn=[w1,w2]\n",
    "\n",
    "t = 0.0\n",
    "dt = (2*pi/(w2-w1))/200.0\n",
    "\n",
    "psis = zeros((2,NA),double)\n",
    "\n",
    "def f1(x):\n",
    "    return cos(k1*x)\n",
    "    \n",
    "def f2(x):\n",
    "    return sin(k2*x)\n",
    "    \n",
    "def f3(x):\n",
    "    return f1(a)*exp(-abs(kap1*x))/exp(-abs(kap1*a))\n",
    "    \n",
    "def f4(x):\n",
    "    return sign(x)*f2(a)*exp(-abs(kap2*x))/exp(-abs(kap2*a))\n",
    "    \n",
    "psis[0] = piecewise(x, [x<-a, (x>=-a)&(x<=a), x>a], [f3, f1, f3])\n",
    "psis[0] = psis[0]/sqrt((abs(psis[0])**2).sum())\n",
    "psis[1] = piecewise(x, [x<-a, (x>=-a)&(x<=a), x>a], [f4, f2, f4])\n",
    "psis[1] = psis[1]/sqrt((abs(psis[1])**2).sum())\n",
    "\n",
    "#\n",
    "# Decide how much of each bound state to use in the superposition state:\n",
    "#\n",
    "# Edit the \"if\" statement to pick the one you want. The first\n",
    "# clause with a '1' wins.\n",
    "#\n",
    "\n",
    "if 1:\n",
    "    # Equal parts 1 and 2\n",
    "    c1 = 1.0/sqrt(2)\n",
    "    c2 = 1.0/sqrt(2)\n",
    "elif 0:\n",
    "    # all 2 and no 1\n",
    "    c1=0.0\n",
    "    c2=1.0\n",
    "elif 0:\n",
    "    # all 1 and no 2\n",
    "    c1=1.0\n",
    "    c2=0.0\n",
    "\n",
    "cn=[c1, c2]                               # array of amplitudes\n",
    "t = 0.0                                   # start at t=0\n",
    "\n",
    "psi = zeros(NA, complex)                  # construct psi at time '0'\n",
    "for i in range(len(cn)):\n",
    "    psi = psi + cn[i]*psis[i]\n",
    "\n",
    "arrowScale = a/psis[0][NA2]              # scale to make the middle of psis[0] about 3a high\n",
    "\n",
    "def SetArrowFromCN( cn, a):\n",
    "    \"\"\"\n",
    "    SetArrowWithCN takes a complex number  cn  and an arrow object  a .\n",
    "    It sets the  y  and  z  components of the arrow s axis to the real \n",
    "    and imaginary parts of the given complex number. \n",
    "    \n",
    "    Just like Computing Project 1, except y and z for real/imag.\n",
    "    \"\"\"\n",
    "    a.axis.y = cn.real\n",
    "    a.axis.z = cn.imag\n",
    "    a.axis.x = 0.0\n",
    "\n",
    "alist = []\n",
    "for i in range(NA):\n",
    "    alist.append(arrow(pos=vec(x[i],0,0), axis=vec(0,a,0), color=color.red))\n",
    "    SetArrowFromCN(arrowScale*psi[i],alist[i])\n",
    "\n",
    "rate(1)  # put a \"fake\" rate command in to render what we've got so far.\n",
    "\n",
    "#\n",
    "# Now, all the arrows are made, and the basis functions and coefficients are \n",
    "# set. Create a loop that produces the correct time evolutions.\n",
    "#\n"
   ]
  },
  {
   "cell_type": "code",
   "execution_count": null,
   "metadata": {
    "collapsed": true,
    "deletable": true,
    "editable": true
   },
   "outputs": [],
   "source": []
  }
 ],
 "metadata": {
  "kernelspec": {
   "display_name": "Python 3",
   "language": "python",
   "name": "python3"
  },
  "language_info": {
   "codemirror_mode": {
    "name": "ipython",
    "version": 3
   },
   "file_extension": ".py",
   "mimetype": "text/x-python",
   "name": "python",
   "nbconvert_exporter": "python",
   "pygments_lexer": "ipython3",
   "version": "3.6.0"
  }
 },
 "nbformat": 4,
 "nbformat_minor": 2
}
