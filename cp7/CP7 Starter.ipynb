{
 "cells": [
  {
   "cell_type": "code",
   "execution_count": 1,
   "metadata": {
    "collapsed": false,
    "deletable": true,
    "editable": true
   },
   "outputs": [
    {
     "data": {
      "application/javascript": [
       "require.undef(\"nbextensions/vpython_libraries/glow.min\");"
      ],
      "text/plain": [
       "<IPython.core.display.Javascript object>"
      ]
     },
     "metadata": {},
     "output_type": "display_data"
    },
    {
     "data": {
      "application/javascript": [
       "require.undef(\"nbextensions/vpython_libraries/glowcomm\");"
      ],
      "text/plain": [
       "<IPython.core.display.Javascript object>"
      ]
     },
     "metadata": {},
     "output_type": "display_data"
    },
    {
     "data": {
      "application/javascript": [
       "require.undef(\"nbextensions/vpython_libraries/jquery-ui.custom.min\");"
      ],
      "text/plain": [
       "<IPython.core.display.Javascript object>"
      ]
     },
     "metadata": {},
     "output_type": "display_data"
    },
    {
     "data": {
      "application/javascript": [
       "require([\"nbextensions/vpython_libraries/glow.min\"], function(){console.log(\"GLOW LOADED\");})"
      ],
      "text/plain": [
       "<IPython.core.display.Javascript object>"
      ]
     },
     "metadata": {},
     "output_type": "display_data"
    },
    {
     "data": {
      "application/javascript": [
       "require([\"nbextensions/vpython_libraries/glowcomm\"], function(){console.log(\"GLOWCOMM LOADED\");})"
      ],
      "text/plain": [
       "<IPython.core.display.Javascript object>"
      ]
     },
     "metadata": {},
     "output_type": "display_data"
    },
    {
     "data": {
      "application/javascript": [
       "require([\"nbextensions/vpython_libraries/jquery-ui.custom.min\"], function(){console.log(\"JQUERY LOADED\");})"
      ],
      "text/plain": [
       "<IPython.core.display.Javascript object>"
      ]
     },
     "metadata": {},
     "output_type": "display_data"
    },
    {
     "data": {
      "text/html": [
       "<div id=\"glowscript\" class=\"glowscript\"></div>"
      ],
      "text/plain": [
       "<IPython.core.display.HTML object>"
      ]
     },
     "metadata": {},
     "output_type": "display_data"
    },
    {
     "data": {
      "application/javascript": [
       "window.__context = { glowscript_container: $(\"#glowscript\").removeAttr(\"id\")}"
      ],
      "text/plain": [
       "<IPython.core.display.Javascript object>"
      ]
     },
     "metadata": {},
     "output_type": "display_data"
    }
   ],
   "source": [
    "#\n",
    "# cp7: Starter for Computing Project 7: FFT evolution with potential energy\n",
    "#\n",
    "\n",
    "from vpython import *\n",
    "from numpy import *\n",
    "from vpython import rate\n",
    "inv = linalg.inv\n"
   ]
  },
  {
   "cell_type": "code",
   "execution_count": null,
   "metadata": {
    "collapsed": false,
    "deletable": true,
    "editable": true
   },
   "outputs": [
    {
     "data": {
      "text/html": [
       "<div id=\"glowscript\" class=\"glowscript\"></div>"
      ],
      "text/plain": [
       "<IPython.core.display.HTML object>"
      ]
     },
     "metadata": {},
     "output_type": "display_data"
    },
    {
     "data": {
      "application/javascript": [
       "window.__context = { glowscript_container: $(\"#glowscript\").removeAttr(\"id\")}"
      ],
      "text/plain": [
       "<IPython.core.display.Javascript object>"
      ]
     },
     "metadata": {},
     "output_type": "display_data"
    },
    {
     "name": "stdout",
     "output_type": "stream",
     "text": [
      "Theoretical Transmission Probability: T= 0.297115072697\n"
     ]
    }
   ],
   "source": [
    "canvas(width=600, height=300)\n",
    "gd = graph(title=\"P(left) and P(right) vs. t\", xtitle=\"t\", ytitle=\"Probability\",\n",
    "          width=600, height=200)\n",
    "\n",
    "def SetArrowFromCN( cn, a):\n",
    "    \"\"\"\n",
    "    SetArrowWithCN takes a complex number  cn  and an arrow object  a .\n",
    "    It sets the  y  and  z  components of the arrow s axis to the real \n",
    "    and imaginary parts of the given complex number. \n",
    "    \n",
    "    Just like Computing Project 1, except y and z for real/imag.\n",
    "    \"\"\"\n",
    "    a.axis.y = cn.real\n",
    "    a.axis.z = cn.imag\n",
    "    a.axis.x = 0.0\n",
    "    \n",
    "\n",
    "gL = gcurve(color=color.blue)\n",
    "gR = gcurve(color=color.green)\n",
    "\n",
    "hbar=1.0                       # use units where hbar = 1\n",
    "m=1.0                          # and m=1.0\n",
    "NA=500                         # how many arrows?\n",
    "NA2=int(NA/2)                  # half of NA\n",
    "b=30.0                         # range of x is -b/2 to b/2\n",
    "a=0.01*b                       # half size of barrier (using Griffiths' notation)\n",
    "V0=10.0                        # height of potential barrier\n",
    "\n",
    "x = linspace(-b/2, b/2, NA)    # NA locations from -b/2 to b/2\n",
    "n = arange(NA)                 # n = array([0,1,2,3,.... N-1])\n",
    "n = piecewise(n, [n<NA2, n>=NA2], [lambda n:n, lambda n:n - NA])\n",
    "                               # adjust n to give correct states with k<0\n",
    "k = 2*n*pi/b\n",
    "Energy = (hbar*k)**2/(2.0*m)   # get the KE array (one element for each k)\n",
    "omega = Energy/hbar            # get the corresponding frequency\n",
    "\n",
    "t = 0.0\n",
    "dt = 0.005\n",
    "kMin = 2*pi/b                  # lowest possible wave number\n",
    "k0 = 20*kMin                   # nice packet central wave number\n",
    "sigma = b/15.0                 # make packet fairly narrow\n",
    "arrowScale = sqrt(NA*b*sigma)/10.0 # arbitrary scaling factor\n",
    "\n",
    "psi=exp(1j*k0*x - ((x+1*b/4)/sigma)**2)   # gaussian wave packet\n",
    "psi = psi/sqrt((abs(psi)**2).sum())       # normalize it!\n",
    "\n",
    "def GetTransAmpl(kVal):\n",
    "    \"\"\"\n",
    "    compute the transmission amplitude for an incoming wave with\n",
    "    wavenumber 'kVal'. \n",
    "    \"\"\"\n",
    "    E = (hbar*kVal)**2/(2*m)                # Get the energy for this k\n",
    "    kappa = sqrt(2.0*m*(V0*(1+0j)-E))/hbar  # Get the corresponding kappa\n",
    "    \n",
    "    #\n",
    "    # set up the array to handle the boundary conditions for the \n",
    "    # wavefunction and its derivatives at the square barrier\n",
    "    # boundaries (-a, +a).\n",
    "    #\n",
    "    \n",
    "    M = array(\n",
    "    [[-exp(1j*kVal*a), exp(-kappa*a), exp(kappa*a), 0.0],\n",
    "     [1j*kVal*exp(1j*kVal*a), kappa*exp(-kappa*a), -kappa*exp(kappa*a), 0.0],\n",
    "     [0.0, exp(kappa*a), exp(-kappa*a), -exp(1j*kVal*a)],\n",
    "     [0.0, kappa*exp(kappa*a), -kappa*exp(-kappa*a), -1j*kVal*exp(1j*kVal*a)]\n",
    "     ])\n",
    "     \n",
    "    B = array(\n",
    "    [[exp(-1j*kVal*a)],\n",
    "     [1j*kVal*exp(-1j*kVal*a)],\n",
    "     [0.0],\n",
    "     [0.0],\n",
    "     ])\n",
    "\n",
    "    return (asmatrix(inv(M))*B)[-1,0]\n",
    "\n",
    "\n",
    "\n",
    "#\n",
    "# Compute the weighted average of the transmission probability\n",
    "# for each k in the fourier transform weighted by the probability\n",
    "# of that \"k\" being measured in the incoming wave packet.\n",
    "#\n",
    "\n",
    "sum=0.0\n",
    "wt=0.0\n",
    "phi = fft.fft(psi)\n",
    "\n",
    "\n",
    "for i in range(NA2):\n",
    "    trans = abs(GetTransAmpl(k[i]))**2\n",
    "    phiSQ = abs(phi[i])**2\n",
    "    sum += phiSQ*trans\n",
    "    wt += phiSQ\n",
    "\n",
    "print(\"Theoretical Transmission Probability: T=\", sum/wt)\n",
    "\n",
    "#\n",
    "# set up potential.\n",
    "#\n",
    "\n",
    "V = zeros(len(psi),double)\n",
    "beg=NA2 - (int(round(NA*a/b)))\n",
    "end=NA2 + (int(round(NA*a/b)))\n",
    "V[beg:end] =V0*ones(end-beg,double)\n",
    "\n",
    "#\n",
    "# Set up the 3D representation of the barrier\n",
    "#\n",
    "\n",
    "barrier = cylinder(pos=vec(x[beg],0,0), axis=vec(x[end]-x[beg],0,0), color=color.blue, opacity=0.4, radius=3.0)\n",
    "\n",
    "#\n",
    "# set up the arrows\n",
    "#\n",
    "\n",
    "alist = []\n",
    "for i in range(NA):\n",
    "    alist.append(arrow(pos=vec(x[i],0,0), axis=vec(0,1,0), color=color.red))\n",
    "    SetArrowFromCN(arrowScale*psi[i],alist[i])\n",
    "    \n",
    "maxT=0.0\n",
    "while True:\n",
    "    rate(1.0/dt)\n",
    "    #\n",
    "    # Here's where you put in the code to use the FFT/IFFT\n",
    "    # to propagate the state forward in time and graph\n",
    "    # the probability of finding the particle on the \n",
    "    # left or right of the potential barrier.\n",
    "    #\n",
    "    pass"
   ]
  },
  {
   "cell_type": "code",
   "execution_count": null,
   "metadata": {
    "collapsed": true,
    "deletable": true,
    "editable": true
   },
   "outputs": [],
   "source": []
  }
 ],
 "metadata": {
  "kernelspec": {
   "display_name": "Python 3",
   "language": "python",
   "name": "python3"
  },
  "language_info": {
   "codemirror_mode": {
    "name": "ipython",
    "version": 3
   },
   "file_extension": ".py",
   "mimetype": "text/x-python",
   "name": "python",
   "nbconvert_exporter": "python",
   "pygments_lexer": "ipython3",
   "version": "3.6.0"
  }
 },
 "nbformat": 4,
 "nbformat_minor": 2
}
