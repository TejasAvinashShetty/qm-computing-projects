{
 "cells": [
  {
   "cell_type": "code",
   "execution_count": null,
   "metadata": {
    "collapsed": false,
    "deletable": true,
    "editable": true
   },
   "outputs": [],
   "source": [
    "#!/Library/Frameworks/Python.framework/Versions/2.6/bin/python\n",
    "#\n",
    "# cp5: Solution to Computing Project 5: FFT evolution\n",
    "#\n",
    "\n",
    "from vpython import *\n",
    "from numpy import *\n",
    "from vpython import rate"
   ]
  },
  {
   "cell_type": "code",
   "execution_count": null,
   "metadata": {
    "collapsed": true,
    "deletable": true,
    "editable": true
   },
   "outputs": [],
   "source": [
    "def SetArrowFromCN( cn, a):\n",
    "    \"\"\"\n",
    "    SetArrowWithCN takes a complex number  cn  and an arrow object  a .\n",
    "    It sets the  y  and  z  components of the arrow s axis to the real \n",
    "    and imaginary parts of the given complex number. \n",
    "    \n",
    "    Just like Computing Project 1, except y and z for real/imag.\n",
    "    \"\"\"\n",
    "    a.axis.y = cn.real\n",
    "    a.axis.z = cn.imag\n",
    "    a.axis.x = 0.0\n",
    "    "
   ]
  },
  {
   "cell_type": "code",
   "execution_count": null,
   "metadata": {
    "collapsed": true,
    "deletable": true,
    "editable": true
   },
   "outputs": [],
   "source": [
    "gr = gcurve(color=color.black)\n",
    "scene.background=color.white\n",
    "\n",
    "hbar=1.0                       # use units where hbar = 1\n",
    "m=1.0                          # and m=1.0\n",
    "NA=500                         # how many arrows?\n",
    "a=30.0                         # range of x is -a/2 to a/2\n",
    "\n",
    "x = linspace(-a/2, a/2, NA)    # NA locations from -a/2 to a/2\n",
    "n = arange(NA)                 # n = array([0,1,2,3,.... N-1])\n",
    "n = piecewise(n, [n<NA/2, n>=NA/2], [lambda n:n, lambda n:n - NA])\n",
    "k = 2*n*pi/a\n",
    "Energy = (hbar*k)**2/(2.0*m)   # get the kinetic energy\n",
    "omega = Energy/hbar            # get the frequency\n",
    "\n",
    "t = 0.0\n",
    "dt = 0.01\n",
    "kMin = 2*pi/a\n",
    "k0 = 20*kMin\n",
    "sigma = a/15.0\n",
    "arrowScale = sqrt(NA*a*sigma)/10.0\n",
    "\n",
    "psi=exp(1j*k0*x - ((x+1*a/4)/sigma)**2)   # gaussian wave packet\n",
    "psi = psi/sqrt((abs(psi)**2).sum())       # normalize\n",
    "phi0 = fft.fft(psi)                       # fft at t=0\n",
    "\n",
    "def doStep(plotSigma=False):\n",
    "    \"\"\"\n",
    "    For the current value of \"t\" compute the wavefunction.\n",
    "    \n",
    "    Fill in the code here to complete the solution\n",
    "    \"\"\"\n",
    "\n",
    "    #\n",
    "    # compute the new psi, update the arrows and from psi compute xexp and sig\n",
    "    #\n",
    "    \n",
    "    xexp = 1.0 # fix this to actually compute the expectation value of x\n",
    "    \n",
    "    if plotSigma:\n",
    "        gr.plot(pos=(t,sig))\n",
    "    else:\n",
    "        gr.plot(pos=(t,xexp))\n"
   ]
  },
  {
   "cell_type": "code",
   "execution_count": null,
   "metadata": {
    "collapsed": false,
    "deletable": true,
    "editable": true
   },
   "outputs": [],
   "source": [
    "#\n",
    "# build arrows for display, initialize to current \"psi\" function.\n",
    "#\n",
    "\n",
    "canvas(width=800, height=300)\n",
    "\n",
    "alist = []\n",
    "for i in range(NA):\n",
    "    alist.append(arrow(pos=vec(x[i],0,0), color=color.red))\n",
    "    SetArrowFromCN(arrowScale*psi[i],alist[i])\n",
    "    \n",
    "rate(30)\n",
    "    "
   ]
  },
  {
   "cell_type": "code",
   "execution_count": null,
   "metadata": {
    "collapsed": false,
    "deletable": true,
    "editable": true
   },
   "outputs": [],
   "source": [
    "#\n",
    "# Actually run the time-loop, interrupt the kernel to stop.\n",
    "#\n",
    "\n",
    "while True:\n",
    "    rate(1.0/dt)\n",
    "    doStep()\n",
    "    t += dt"
   ]
  },
  {
   "cell_type": "code",
   "execution_count": null,
   "metadata": {
    "collapsed": true,
    "deletable": true,
    "editable": true
   },
   "outputs": [],
   "source": []
  }
 ],
 "metadata": {
  "kernelspec": {
   "display_name": "Python 3",
   "language": "python",
   "name": "python3"
  },
  "language_info": {
   "codemirror_mode": {
    "name": "ipython",
    "version": 3
   },
   "file_extension": ".py",
   "mimetype": "text/x-python",
   "name": "python",
   "nbconvert_exporter": "python",
   "pygments_lexer": "ipython3",
   "version": "3.6.0"
  }
 },
 "nbformat": 4,
 "nbformat_minor": 2
}
