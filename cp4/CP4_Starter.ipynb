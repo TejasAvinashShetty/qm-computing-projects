{
 "cells": [
  {
   "cell_type": "code",
   "execution_count": 1,
   "metadata": {
    "collapsed": false,
    "deletable": true,
    "editable": true
   },
   "outputs": [
    {
     "data": {
      "application/javascript": [
       "require.undef(\"nbextensions/vpython_libraries/glow.min\");"
      ],
      "text/plain": [
       "<IPython.core.display.Javascript object>"
      ]
     },
     "metadata": {},
     "output_type": "display_data"
    },
    {
     "data": {
      "application/javascript": [
       "require.undef(\"nbextensions/vpython_libraries/glowcomm\");"
      ],
      "text/plain": [
       "<IPython.core.display.Javascript object>"
      ]
     },
     "metadata": {},
     "output_type": "display_data"
    },
    {
     "data": {
      "application/javascript": [
       "require.undef(\"nbextensions/vpython_libraries/jquery-ui.custom.min\");"
      ],
      "text/plain": [
       "<IPython.core.display.Javascript object>"
      ]
     },
     "metadata": {},
     "output_type": "display_data"
    },
    {
     "data": {
      "application/javascript": [
       "require([\"nbextensions/vpython_libraries/glow.min\"], function(){console.log(\"GLOW LOADED\");})"
      ],
      "text/plain": [
       "<IPython.core.display.Javascript object>"
      ]
     },
     "metadata": {},
     "output_type": "display_data"
    },
    {
     "data": {
      "application/javascript": [
       "require([\"nbextensions/vpython_libraries/glowcomm\"], function(){console.log(\"GLOWCOMM LOADED\");})"
      ],
      "text/plain": [
       "<IPython.core.display.Javascript object>"
      ]
     },
     "metadata": {},
     "output_type": "display_data"
    },
    {
     "data": {
      "application/javascript": [
       "require([\"nbextensions/vpython_libraries/jquery-ui.custom.min\"], function(){console.log(\"JQUERY LOADED\");})"
      ],
      "text/plain": [
       "<IPython.core.display.Javascript object>"
      ]
     },
     "metadata": {},
     "output_type": "display_data"
    },
    {
     "data": {
      "text/html": [
       "<div id=\"glowscript\" class=\"glowscript\"></div>"
      ],
      "text/plain": [
       "<IPython.core.display.HTML object>"
      ]
     },
     "metadata": {},
     "output_type": "display_data"
    },
    {
     "data": {
      "application/javascript": [
       "window.__context = { glowscript_container: $(\"#glowscript\").removeAttr(\"id\")}"
      ],
      "text/plain": [
       "<IPython.core.display.Javascript object>"
      ]
     },
     "metadata": {},
     "output_type": "display_data"
    }
   ],
   "source": [
    "#\n",
    "# cp4: Starter Code to Computing Project 4: Coherent states.\n",
    "#\n",
    "\n",
    "from vpython import *     # import all vpython functions including numpy incompatible sin, cos, exp, etc\n",
    "from numpy import *       # import all numpy compatible version of functions includign incompatible \"rate\"\n",
    "from vpython import rate  # import vpython rate function to replace numpy version    \n"
   ]
  },
  {
   "cell_type": "code",
   "execution_count": 2,
   "metadata": {
    "collapsed": true,
    "deletable": true,
    "editable": true
   },
   "outputs": [],
   "source": [
    "def SetArrowFromCN( cn, a):\n",
    "    \"\"\"\n",
    "    SetArrowWithCN takes a complex number  cn  and an arrow object  a .\n",
    "    It sets the  y  and  z  components of the arrow s axis to the real \n",
    "    and imaginary parts of the given complex number. \n",
    "    \n",
    "    Just like Computing Project 1, except y and z for real/imag.\n",
    "    \"\"\"\n",
    "    a.axis.y = cn.real\n",
    "    a.axis.z = cn.imag\n",
    "    a.axis.x = 0.0\n",
    "    "
   ]
  },
  {
   "cell_type": "code",
   "execution_count": 3,
   "metadata": {
    "collapsed": false,
    "deletable": true,
    "editable": true
   },
   "outputs": [
    {
     "data": {
      "text/html": [
       "<div id=\"glowscript\" class=\"glowscript\"></div>"
      ],
      "text/plain": [
       "<IPython.core.display.HTML object>"
      ]
     },
     "metadata": {},
     "output_type": "display_data"
    },
    {
     "data": {
      "application/javascript": [
       "window.__context = { glowscript_container: $(\"#glowscript\").removeAttr(\"id\")}"
      ],
      "text/plain": [
       "<IPython.core.display.Javascript object>"
      ]
     },
     "metadata": {},
     "output_type": "display_data"
    }
   ],
   "source": [
    "canvas()\n",
    "gd = graph(xtitle=\"t\", ytitle=\"&lt;x&gt;\", width=400, height=300)\n",
    "gr = gcurve(color=color.black)\n",
    "\n",
    "NA=80                          # how many arrows?\n",
    "a=15.0                         # range of x is -a/2 to a/2 in units \n",
    "                               # of $\\sqrt{\\hbar/m\\omega}$\n",
    "x = linspace(-a/2, a/2, NA)    # NA locations from -a/2 to a/2\n",
    "\n",
    "NHs=20\n",
    "hs=zeros((NHs,NA),double)    # the hermite polynomials, an NHs x NA array\n",
    "coefs=zeros(NHs,double)      # the coherent state coefficients, an NHs x 1 array\n",
    "psis=zeros((NHs,NA), double) # the stationary states, an NHs x NA array\n",
    "\n",
    "alpha=sqrt(10)               # <n> = 10.0\n",
    "\n",
    "hs[0]=0*x + 1.0              # zeroth Hermite Polynomial, H0\n",
    "hs[1]=2*x                    # first Hermite Polynomial, H1\n",
    "\n",
    "#\n",
    "# Compute the first NHs Hermite Polynomials,\n",
    "# use recurrence relation to get the rest of the Hn(x)\n",
    "#\n",
    "# (see e.g., http://en.wikipedia.org/wiki/Hermite_polynomials#Recursion_relation)\n",
    "#\n",
    "\n",
    "for n in range(1,NHs-1):\n",
    "    hs[n+1]=2*x*hs[n] - 2*n*hs[n-1]\n",
    "\n",
    "#\n",
    "# Use the coherent state coefficient relation to get the c[n]s.\n",
    "# avoid overflow by computing them in a loop. Don't worry about \n",
    "# the overall factor of c[0] since we'll renormalize our discrete \n",
    "# psi array later anyway.\n",
    "#\n",
    "\n",
    "coefs[0]=1.0*exp(-alpha**2)\n",
    "for i in range(1,NHs):\n",
    "    coefs[i]=coefs[i-1]*alpha/sqrt(i)\n",
    "\n",
    "#\n",
    "# Get the stationary states using the hs array and compute the \n",
    "# normalization factor in a loop to avoid overflow\n",
    "#\n",
    "\n",
    "normFactor = 1.0/pi**0.25\n",
    "psis[0]=exp(-x**2/2)\n",
    "for i in range(1,NHs):\n",
    "    normFactor = normFactor/sqrt(2.0*i)\n",
    "    psis[i]=normFactor*hs[i]*exp(-x**2/2)\n",
    "    \n",
    "#\n",
    "# Now do the sum to compute the initial wavefunction\n",
    "#\n",
    "\n",
    "psi=zeros(len(x),complex)\n",
    "for m in range(NHs):\n",
    "    psi += coefs[m]*psis[m]\n",
    "\n",
    "#\n",
    "# Normalize!\n",
    "#\n",
    "\n",
    "psi=psi/sqrt((abs(psi)**2).sum())\n",
    "\n",
    "#\n",
    "# build the arrows. Scale them on the screen by a factor \n",
    "# of 3 so they look nice.\n",
    "#\n",
    "\n",
    "alist = []\n",
    "for i in range(NA):\n",
    "    alist.append(arrow(pos=vec(x[i],0,0), color=color.red))\n",
    "    SetArrowFromCN(3*psi[i],alist[i])\n",
    "\n",
    "scene.autoscale = False\n",
    "t = 0.0\n",
    "dt = 2*pi/1000.0\n",
    "\n",
    "rate(30)\n",
    "\n",
    "#\n",
    "# After this.. create the \"time loop\" that animates the wavefunction\n",
    "# and computes the values for <x> and graphs them. \n",
    "#\n",
    "\n",
    "\n"
   ]
  },
  {
   "cell_type": "code",
   "execution_count": null,
   "metadata": {
    "collapsed": true,
    "deletable": true,
    "editable": true
   },
   "outputs": [],
   "source": []
  }
 ],
 "metadata": {
  "kernelspec": {
   "display_name": "Python 3",
   "language": "python",
   "name": "python3"
  },
  "language_info": {
   "codemirror_mode": {
    "name": "ipython",
    "version": 3
   },
   "file_extension": ".py",
   "mimetype": "text/x-python",
   "name": "python",
   "nbconvert_exporter": "python",
   "pygments_lexer": "ipython3",
   "version": "3.6.0"
  }
 },
 "nbformat": 4,
 "nbformat_minor": 2
}
